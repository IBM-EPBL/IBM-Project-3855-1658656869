{
 "cells": [
  {
   "cell_type": "markdown",
   "metadata": {},
   "source": [
    "IMPORTING THE NECESSARY PACKAGES AND LIBRARIES"
   ]
  },
  {
   "cell_type": "code",
   "execution_count": 1,
   "metadata": {},
   "outputs": [],
   "source": [
    "import pandas as pd\n",
    "import numpy as np\n",
    "import seaborn as sns\n",
    "import matplotlib.pyplot as plt\n",
    "#PATH PROCESS\n",
    "import os\n",
    "import os.path\n",
    "from pathlib import Path\n",
    "import glob"
   ]
  },
  {
   "cell_type": "markdown",
   "metadata": {},
   "source": [
    "PATH AND LABELS"
   ]
  },
  {
   "cell_type": "code",
   "execution_count": 28,
   "metadata": {},
   "outputs": [],
   "source": [
    "Spiral_Train_Path = Path(r\"C:\\Users\\GREEN\\Desktop\\dataset\\spiral\\testing\")\n",
    "Spiral_Test_Path = Path(r\"C:\\Users\\GREEN\\Desktop\\dataset\\spiral\\training\")"
   ]
  },
  {
   "cell_type": "code",
   "execution_count": 31,
   "metadata": {},
   "outputs": [],
   "source": [
    "Spiral_Train_PNG_Path = list(Spiral_Train_Path.glob(r\"*/*.png\"))\n",
    "Spiral_Test_PNG_Path = list(Spiral_Test_Path.glob(r\"*/*.png\"))"
   ]
  },
  {
   "cell_type": "code",
   "execution_count": 32,
   "metadata": {},
   "outputs": [],
   "source": [
    "Spiral_Train_PNG_Labels = list(map(lambda x: os.path.split(os.path.split(x)[0])[1],Spiral_Train_PNG_Path))\n",
    "Spiral_Test_PNG_Labels = list(map(lambda x: os.path.split(os.path.split(x)[0])[1],Spiral_Test_PNG_Path))"
   ]
  },
  {
   "cell_type": "markdown",
   "metadata": {},
   "source": [
    "TRANSFORMATION TO SERIES STRUCTURE"
   ]
  },
  {
   "cell_type": "code",
   "execution_count": 33,
   "metadata": {},
   "outputs": [],
   "source": [
    "Spiral_Train_PNG_Path_Series = pd.Series(Spiral_Train_PNG_Path,name=\"PNG\").astype(str)\n",
    "Spiral_Train_PNG_Labels_Series = pd.Series(Spiral_Train_PNG_Labels,name=\"CATEGORY\")"
   ]
  },
  {
   "cell_type": "code",
   "execution_count": 34,
   "metadata": {},
   "outputs": [],
   "source": [
    "Spiral_Test_PNG_Path_Series = pd.Series(Spiral_Test_PNG_Path,name=\"PNG\").astype(str)\n",
    "Spiral_Test_PNG_Labels_Series = pd.Series(Spiral_Test_PNG_Labels,name=\"CATEGORY\")"
   ]
  },
  {
   "cell_type": "markdown",
   "metadata": {},
   "source": [
    "TRANSFORMATION TO DATAFRAME STRUCTURE"
   ]
  },
  {
   "cell_type": "code",
   "execution_count": 35,
   "metadata": {},
   "outputs": [],
   "source": [
    "Main_Spiral_Train_Data = pd.concat([Spiral_Train_PNG_Path_Series,Spiral_Train_PNG_Labels_Series],axis=1)"
   ]
  },
  {
   "cell_type": "code",
   "execution_count": 36,
   "metadata": {},
   "outputs": [
    {
     "name": "stdout",
     "output_type": "stream",
     "text": [
      "                                                  PNG   CATEGORY\n",
      "0   C:\\Users\\GREEN\\Desktop\\dataset\\spiral\\testing\\...    healthy\n",
      "1   C:\\Users\\GREEN\\Desktop\\dataset\\spiral\\testing\\...    healthy\n",
      "2   C:\\Users\\GREEN\\Desktop\\dataset\\spiral\\testing\\...    healthy\n",
      "3   C:\\Users\\GREEN\\Desktop\\dataset\\spiral\\testing\\...    healthy\n",
      "4   C:\\Users\\GREEN\\Desktop\\dataset\\spiral\\testing\\...    healthy\n",
      "5   C:\\Users\\GREEN\\Desktop\\dataset\\spiral\\testing\\...    healthy\n",
      "6   C:\\Users\\GREEN\\Desktop\\dataset\\spiral\\testing\\...    healthy\n",
      "7   C:\\Users\\GREEN\\Desktop\\dataset\\spiral\\testing\\...    healthy\n",
      "8   C:\\Users\\GREEN\\Desktop\\dataset\\spiral\\testing\\...    healthy\n",
      "9   C:\\Users\\GREEN\\Desktop\\dataset\\spiral\\testing\\...    healthy\n",
      "10  C:\\Users\\GREEN\\Desktop\\dataset\\spiral\\testing\\...    healthy\n",
      "11  C:\\Users\\GREEN\\Desktop\\dataset\\spiral\\testing\\...    healthy\n",
      "12  C:\\Users\\GREEN\\Desktop\\dataset\\spiral\\testing\\...    healthy\n",
      "13  C:\\Users\\GREEN\\Desktop\\dataset\\spiral\\testing\\...    healthy\n",
      "14  C:\\Users\\GREEN\\Desktop\\dataset\\spiral\\testing\\...    healthy\n",
      "15  C:\\Users\\GREEN\\Desktop\\dataset\\spiral\\testing\\...  parkinson\n",
      "16  C:\\Users\\GREEN\\Desktop\\dataset\\spiral\\testing\\...  parkinson\n",
      "17  C:\\Users\\GREEN\\Desktop\\dataset\\spiral\\testing\\...  parkinson\n",
      "18  C:\\Users\\GREEN\\Desktop\\dataset\\spiral\\testing\\...  parkinson\n",
      "19  C:\\Users\\GREEN\\Desktop\\dataset\\spiral\\testing\\...  parkinson\n",
      "20  C:\\Users\\GREEN\\Desktop\\dataset\\spiral\\testing\\...  parkinson\n",
      "21  C:\\Users\\GREEN\\Desktop\\dataset\\spiral\\testing\\...  parkinson\n",
      "22  C:\\Users\\GREEN\\Desktop\\dataset\\spiral\\testing\\...  parkinson\n",
      "23  C:\\Users\\GREEN\\Desktop\\dataset\\spiral\\testing\\...  parkinson\n",
      "24  C:\\Users\\GREEN\\Desktop\\dataset\\spiral\\testing\\...  parkinson\n",
      "25  C:\\Users\\GREEN\\Desktop\\dataset\\spiral\\testing\\...  parkinson\n",
      "26  C:\\Users\\GREEN\\Desktop\\dataset\\spiral\\testing\\...  parkinson\n",
      "27  C:\\Users\\GREEN\\Desktop\\dataset\\spiral\\testing\\...  parkinson\n",
      "28  C:\\Users\\GREEN\\Desktop\\dataset\\spiral\\testing\\...  parkinson\n"
     ]
    }
   ],
   "source": [
    "print(Main_Spiral_Train_Data.head(-1))"
   ]
  },
  {
   "cell_type": "code",
   "execution_count": 37,
   "metadata": {},
   "outputs": [],
   "source": [
    "Main_Spiral_Test_Data = pd.concat([Spiral_Test_PNG_Path_Series,Spiral_Test_PNG_Labels_Series],axis=1)"
   ]
  },
  {
   "cell_type": "code",
   "execution_count": 38,
   "metadata": {},
   "outputs": [
    {
     "name": "stdout",
     "output_type": "stream",
     "text": [
      "                                                  PNG   CATEGORY\n",
      "0   C:\\Users\\GREEN\\Desktop\\dataset\\spiral\\training...    healthy\n",
      "1   C:\\Users\\GREEN\\Desktop\\dataset\\spiral\\training...    healthy\n",
      "2   C:\\Users\\GREEN\\Desktop\\dataset\\spiral\\training...    healthy\n",
      "3   C:\\Users\\GREEN\\Desktop\\dataset\\spiral\\training...    healthy\n",
      "4   C:\\Users\\GREEN\\Desktop\\dataset\\spiral\\training...    healthy\n",
      "..                                                ...        ...\n",
      "66  C:\\Users\\GREEN\\Desktop\\dataset\\spiral\\training...  parkinson\n",
      "67  C:\\Users\\GREEN\\Desktop\\dataset\\spiral\\training...  parkinson\n",
      "68  C:\\Users\\GREEN\\Desktop\\dataset\\spiral\\training...  parkinson\n",
      "69  C:\\Users\\GREEN\\Desktop\\dataset\\spiral\\training...  parkinson\n",
      "70  C:\\Users\\GREEN\\Desktop\\dataset\\spiral\\training...  parkinson\n",
      "\n",
      "[71 rows x 2 columns]\n"
     ]
    }
   ],
   "source": [
    "print(Main_Spiral_Test_Data.head(-1))"
   ]
  }
 ],
 "metadata": {
  "interpreter": {
   "hash": "d8638c88805f23008286b4aa25e5d2b1d1da225dddf4df35a48d79b99922c7c0"
  },
  "kernelspec": {
   "display_name": "Python 3.10.7 64-bit",
   "language": "python",
   "name": "python3"
  },
  "language_info": {
   "codemirror_mode": {
    "name": "ipython",
    "version": 3
   },
   "file_extension": ".py",
   "mimetype": "text/x-python",
   "name": "python",
   "nbconvert_exporter": "python",
   "pygments_lexer": "ipython3",
   "version": "3.10.7"
  },
  "orig_nbformat": 4
 },
 "nbformat": 4,
 "nbformat_minor": 2
}
